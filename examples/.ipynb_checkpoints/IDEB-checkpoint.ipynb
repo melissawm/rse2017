{
 "cells": [
  {
   "cell_type": "markdown",
   "metadata": {
    "collapsed": true
   },
   "source": [
    "# Example: IDEB Analysis"
   ]
  },
  {
   "cell_type": "markdown",
   "metadata": {
    "collapsed": true
   },
   "source": [
    "We are going to analyse data corresponding to the IDEB (Basic Education Development Index) for brazilian cities. The data comes from the file"
   ]
  },
  {
   "cell_type": "code",
   "execution_count": 1,
   "metadata": {
    "collapsed": true
   },
   "outputs": [],
   "source": [
    "ideb_file = \"IDEB por Município Rede Federal Séries Finais (5ª a 8ª).xml\""
   ]
  },
  {
   "cell_type": "markdown",
   "metadata": {},
   "source": [
    "which was obtained from the main brazilian government open data site <a href=\"http://dados.gov.br\">dados.gov.br</a>"
   ]
  },
  {
   "cell_type": "markdown",
   "metadata": {},
   "source": [
    "Since we have an .xml file, we'll use the *xml.etree.ElementTree* module to parse its contents. For simplicity, we'll call this module *ET*."
   ]
  },
  {
   "cell_type": "code",
   "execution_count": 2,
   "metadata": {
    "collapsed": true
   },
   "outputs": [],
   "source": [
    "import xml.etree.ElementTree as ET"
   ]
  },
  {
   "cell_type": "markdown",
   "metadata": {},
   "source": [
    "### The ElementTree (ET) module\n",
    "\n",
    "An XML file is a hierarchical set of data, so the most intuitive way to represent this data is by a tree. To do this, the ET module implements two classes: the ElementTree class represents the whole XML file as a tree, and the Element class represents one node of this tree. All interactions that occurr with the whole file (like reading and writing to this file) are done through the ElementTree class; on the other hand, every interaction with an isolated element of the XML and its subelements are done through the Element class.\n",
    "\n",
    "By reading the docs, we learn that the *ET.parse* methods returns an *ElementTree* from a file."
   ]
  },
  {
   "cell_type": "code",
   "execution_count": 3,
   "metadata": {
    "collapsed": true
   },
   "outputs": [],
   "source": [
    "tree = ET.parse(ideb_file)"
   ]
  },
  {
   "cell_type": "markdown",
   "metadata": {},
   "source": [
    "The *ElementTree* class has the following structure:"
   ]
  },
  {
   "cell_type": "code",
   "execution_count": 4,
   "metadata": {},
   "outputs": [
    {
     "data": {
      "text/plain": [
       "['__class__',\n",
       " '__delattr__',\n",
       " '__dict__',\n",
       " '__dir__',\n",
       " '__doc__',\n",
       " '__eq__',\n",
       " '__format__',\n",
       " '__ge__',\n",
       " '__getattribute__',\n",
       " '__gt__',\n",
       " '__hash__',\n",
       " '__init__',\n",
       " '__init_subclass__',\n",
       " '__le__',\n",
       " '__lt__',\n",
       " '__module__',\n",
       " '__ne__',\n",
       " '__new__',\n",
       " '__reduce__',\n",
       " '__reduce_ex__',\n",
       " '__repr__',\n",
       " '__setattr__',\n",
       " '__sizeof__',\n",
       " '__str__',\n",
       " '__subclasshook__',\n",
       " '__weakref__',\n",
       " '_root',\n",
       " '_setroot',\n",
       " 'find',\n",
       " 'findall',\n",
       " 'findtext',\n",
       " 'getiterator',\n",
       " 'getroot',\n",
       " 'iter',\n",
       " 'iterfind',\n",
       " 'parse',\n",
       " 'write',\n",
       " 'write_c14n']"
      ]
     },
     "execution_count": 4,
     "metadata": {},
     "output_type": "execute_result"
    }
   ],
   "source": [
    "dir(tree)"
   ]
  },
  {
   "cell_type": "markdown",
   "metadata": {},
   "source": [
    "According to the documentation for this module, we access the ElementTree via its *root* node, which is an *Element* class instance. To see the root element, we use the *getroot* method:"
   ]
  },
  {
   "cell_type": "code",
   "execution_count": 5,
   "metadata": {
    "collapsed": true
   },
   "outputs": [],
   "source": [
    "root = tree.getroot()"
   ]
  },
  {
   "cell_type": "markdown",
   "metadata": {},
   "source": [
    "As an *Element*, the root object has the *tag* and *attrib* properties, and *attrib* is a dictionary of its attributes. Let's see what are these values:"
   ]
  },
  {
   "cell_type": "code",
   "execution_count": 6,
   "metadata": {
    "action": "hide",
    "tags": [
     "codecomment"
    ]
   },
   "outputs": [
    {
     "data": {
      "text/plain": [
       "'result'"
      ]
     },
     "execution_count": 6,
     "metadata": {},
     "output_type": "execute_result"
    }
   ],
   "source": [
    "root.tag"
   ]
  },
  {
   "cell_type": "code",
   "execution_count": 7,
   "metadata": {
    "action": "hide",
    "tags": [
     "codecomment"
    ]
   },
   "outputs": [
    {
     "data": {
      "text/plain": [
       "{}"
      ]
     },
     "execution_count": 7,
     "metadata": {},
     "output_type": "execute_result"
    }
   ],
   "source": [
    "root.attrib"
   ]
  },
  {
   "cell_type": "markdown",
   "metadata": {},
   "source": [
    "To access each child node of the root element, we iterate on these nodes (which are also *Elements*):"
   ]
  },
  {
   "cell_type": "code",
   "execution_count": 8,
   "metadata": {
    "tags": [
     "codecomment"
    ]
   },
   "outputs": [
    {
     "name": "stdout",
     "output_type": "stream",
     "text": [
      "url {}\n",
      "id {}\n",
      "nome {}\n",
      "nome_estendido {}\n",
      "descricao {}\n",
      "inicio {}\n",
      "final {}\n",
      "formatacao {}\n",
      "data_atualizacao {}\n",
      "aditividade {}\n",
      "url_origem {}\n",
      "tempo_aditividade {}\n",
      "portal_dados_abertos {}\n",
      "disponibilizacao {}\n",
      "estado {}\n",
      "fonte_gestora {}\n",
      "fonte_provedora {}\n",
      "grupo_informacao {}\n",
      "base_territorial {}\n",
      "periodicidade {}\n",
      "multiplicador {}\n",
      "produto {}\n",
      "publicacao {}\n",
      "unidade_medida {}\n",
      "orgao_primeiro_escalao {}\n",
      "valores {}\n"
     ]
    }
   ],
   "source": [
    "for child in root:\n",
    "    print(child.tag, child.attrib)"
   ]
  },
  {
   "cell_type": "markdown",
   "metadata": {},
   "source": [
    "We can see that our XML comes with a lot of data. Next, we will try to get a subset of this data."
   ]
  },
  {
   "cell_type": "markdown",
   "metadata": {},
   "source": [
    "### Selecting the data"
   ]
  },
  {
   "cell_type": "markdown",
   "metadata": {},
   "source": [
    "Now that we have a better idea of the document's structure, let's build a pandas *DataFrame* with what we need. First, we can see that we only need the last node of the root element, \"valores\" (which stands for \"values\" in Portuguese); the other nodes are in fact just the header for the XML file. Let's explore this node."
   ]
  },
  {
   "cell_type": "code",
   "execution_count": 9,
   "metadata": {
    "collapsed": true
   },
   "outputs": [],
   "source": [
    "IDEBvalues = root.find('valores')"
   ]
  },
  {
   "cell_type": "markdown",
   "metadata": {},
   "source": [
    "Note that there is one more layer of data here:"
   ]
  },
  {
   "cell_type": "code",
   "execution_count": 10,
   "metadata": {
    "tags": [
     "codecomment"
    ]
   },
   "outputs": [
    {
     "data": {
      "text/plain": [
       "<Element 'valores' at 0x7f159c12f598>"
      ]
     },
     "execution_count": 10,
     "metadata": {},
     "output_type": "execute_result"
    }
   ],
   "source": [
    "IDEBvalues"
   ]
  },
  {
   "cell_type": "code",
   "execution_count": 11,
   "metadata": {
    "tags": [
     "codecomment"
    ]
   },
   "outputs": [
    {
     "data": {
      "text/plain": [
       "<Element 'entry' at 0x7f159c12f5e8>"
      ]
     },
     "execution_count": 11,
     "metadata": {},
     "output_type": "execute_result"
    }
   ],
   "source": [
    "IDEBvalues[0]"
   ]
  },
  {
   "cell_type": "markdown",
   "metadata": {},
   "source": [
    "Now, we can explore the grandchildren of the root node: "
   ]
  },
  {
   "cell_type": "code",
   "execution_count": 12,
   "metadata": {
    "tags": [
     "codecomment"
    ]
   },
   "outputs": [
    {
     "name": "stdout",
     "output_type": "stream",
     "text": [
      "valor {}\n",
      "municipio_ibge {}\n",
      "ano {}\n",
      "valor {}\n",
      "municipio_ibge {}\n",
      "ano {}\n",
      "valor {}\n",
      "municipio_ibge {}\n",
      "ano {}\n",
      "valor {}\n",
      "municipio_ibge {}\n",
      "ano {}\n",
      "valor {}\n",
      "municipio_ibge {}\n",
      "ano {}\n",
      "valor {}\n",
      "municipio_ibge {}\n",
      "ano {}\n",
      "valor {}\n",
      "municipio_ibge {}\n",
      "ano {}\n",
      "valor {}\n",
      "municipio_ibge {}\n",
      "ano {}\n",
      "valor {}\n",
      "municipio_ibge {}\n",
      "ano {}\n",
      "valor {}\n",
      "municipio_ibge {}\n",
      "ano {}\n",
      "valor {}\n",
      "municipio_ibge {}\n",
      "ano {}\n",
      "valor {}\n",
      "municipio_ibge {}\n",
      "ano {}\n",
      "valor {}\n",
      "municipio_ibge {}\n",
      "ano {}\n",
      "valor {}\n",
      "municipio_ibge {}\n",
      "ano {}\n",
      "valor {}\n",
      "municipio_ibge {}\n",
      "ano {}\n",
      "valor {}\n",
      "municipio_ibge {}\n",
      "ano {}\n",
      "valor {}\n",
      "municipio_ibge {}\n",
      "ano {}\n",
      "valor {}\n",
      "municipio_ibge {}\n",
      "ano {}\n",
      "valor {}\n",
      "municipio_ibge {}\n",
      "ano {}\n",
      "valor {}\n",
      "municipio_ibge {}\n",
      "ano {}\n",
      "valor {}\n",
      "municipio_ibge {}\n",
      "ano {}\n",
      "valor {}\n",
      "municipio_ibge {}\n",
      "ano {}\n",
      "valor {}\n",
      "municipio_ibge {}\n",
      "ano {}\n",
      "valor {}\n",
      "municipio_ibge {}\n",
      "ano {}\n",
      "valor {}\n",
      "municipio_ibge {}\n",
      "ano {}\n",
      "valor {}\n",
      "municipio_ibge {}\n",
      "ano {}\n",
      "valor {}\n",
      "municipio_ibge {}\n",
      "ano {}\n",
      "valor {}\n",
      "municipio_ibge {}\n",
      "ano {}\n",
      "valor {}\n",
      "municipio_ibge {}\n",
      "ano {}\n",
      "valor {}\n",
      "municipio_ibge {}\n",
      "ano {}\n",
      "valor {}\n",
      "municipio_ibge {}\n",
      "ano {}\n",
      "valor {}\n",
      "municipio_ibge {}\n",
      "ano {}\n",
      "valor {}\n",
      "municipio_ibge {}\n",
      "ano {}\n",
      "valor {}\n",
      "municipio_ibge {}\n",
      "ano {}\n",
      "valor {}\n",
      "municipio_ibge {}\n",
      "ano {}\n",
      "valor {}\n",
      "municipio_ibge {}\n",
      "ano {}\n",
      "valor {}\n",
      "municipio_ibge {}\n",
      "ano {}\n",
      "valor {}\n",
      "municipio_ibge {}\n",
      "ano {}\n",
      "valor {}\n",
      "municipio_ibge {}\n",
      "ano {}\n"
     ]
    }
   ],
   "source": [
    "for child in IDEBvalues:\n",
    "    for grandchild in child:\n",
    "        print(grandchild.tag, grandchild.attrib)"
   ]
  },
  {
   "cell_type": "markdown",
   "metadata": {},
   "source": [
    "Now, let's extract the data we are interested in:"
   ]
  },
  {
   "cell_type": "code",
   "execution_count": 13,
   "metadata": {
    "collapsed": true
   },
   "outputs": [],
   "source": [
    "data = []\n",
    "for child in IDEBvalues:\n",
    "    data.append([float(child[0].text), child[1].text, child[2].text])"
   ]
  },
  {
   "cell_type": "code",
   "execution_count": 14,
   "metadata": {
    "tags": [
     "codecomment"
    ]
   },
   "outputs": [
    {
     "data": {
      "text/plain": [
       "[[4.7, '120040', '2009'],\n",
       " [6.0, '130260', '2009'],\n",
       " [5.9, '140010', '2009'],\n",
       " [5.5, '150140', '2009'],\n",
       " [4.0, '211130', '2009'],\n",
       " [6.3, '220190', '2009'],\n",
       " [6.9, '230440', '2009'],\n",
       " [7.1, '261160', '2009'],\n",
       " [6.5, '280670', '2009'],\n",
       " [7.1, '292740', '2009'],\n",
       " [6.0, '310620', '2009'],\n",
       " [6.3, '313670', '2009'],\n",
       " [6.4, '317020', '2009'],\n",
       " [5.7, '330455', '2009'],\n",
       " [6.9, '410690', '2009'],\n",
       " [5.7, '420540', '2009'],\n",
       " [5.8, '431490', '2009'],\n",
       " [7.3, '431690', '2009'],\n",
       " [7.1, '500270', '2009'],\n",
       " [5.3, '520870', '2009'],\n",
       " [4.4, '120040', '2007'],\n",
       " [5.3, '140010', '2007'],\n",
       " [5.2, '150140', '2007'],\n",
       " [3.4, '211130', '2007'],\n",
       " [4.3, '220190', '2007'],\n",
       " [6.8, '230440', '2007'],\n",
       " [7.5, '261160', '2007'],\n",
       " [5.4, '280670', '2007'],\n",
       " [7.2, '292740', '2007'],\n",
       " [5.5, '310620', '2007'],\n",
       " [7.0, '313670', '2007'],\n",
       " [6.0, '317020', '2007'],\n",
       " [6.1, '330455', '2007'],\n",
       " [5.8, '420540', '2007'],\n",
       " [6.2, '431490', '2007'],\n",
       " [6.5, '431690', '2007'],\n",
       " [6.5, '500270', '2007'],\n",
       " [5.5, '520870', '2007'],\n",
       " [6.7, '530010', '2007']]"
      ]
     },
     "execution_count": 14,
     "metadata": {},
     "output_type": "execute_result"
    }
   ],
   "source": [
    "data"
   ]
  },
  {
   "cell_type": "markdown",
   "metadata": {},
   "source": [
    "Since <a href=\"http://pandas.pydata.org/\">Pandas</a> seems to be fashionable right now ;) let's use it to store and treat this data. We'll give it a shorter name though, pd."
   ]
  },
  {
   "cell_type": "code",
   "execution_count": 15,
   "metadata": {
    "collapsed": true
   },
   "outputs": [],
   "source": [
    "import pandas as pd"
   ]
  },
  {
   "cell_type": "markdown",
   "metadata": {},
   "source": [
    "Now, we create our DataFrame from the preexisting data."
   ]
  },
  {
   "cell_type": "code",
   "execution_count": 16,
   "metadata": {
    "collapsed": true
   },
   "outputs": [],
   "source": [
    "IDEBTable = pd.DataFrame(data, columns = [\"Valor\", \"Municipio\", \"Ano\"])"
   ]
  },
  {
   "cell_type": "code",
   "execution_count": 17,
   "metadata": {
    "tags": [
     "codecomment"
    ]
   },
   "outputs": [
    {
     "data": {
      "text/html": [
       "<div>\n",
       "<style>\n",
       "    .dataframe thead tr:only-child th {\n",
       "        text-align: right;\n",
       "    }\n",
       "\n",
       "    .dataframe thead th {\n",
       "        text-align: left;\n",
       "    }\n",
       "\n",
       "    .dataframe tbody tr th {\n",
       "        vertical-align: top;\n",
       "    }\n",
       "</style>\n",
       "<table border=\"1\" class=\"dataframe\">\n",
       "  <thead>\n",
       "    <tr style=\"text-align: right;\">\n",
       "      <th></th>\n",
       "      <th>Valor</th>\n",
       "      <th>Municipio</th>\n",
       "      <th>Ano</th>\n",
       "    </tr>\n",
       "  </thead>\n",
       "  <tbody>\n",
       "    <tr>\n",
       "      <th>0</th>\n",
       "      <td>4.7</td>\n",
       "      <td>120040</td>\n",
       "      <td>2009</td>\n",
       "    </tr>\n",
       "    <tr>\n",
       "      <th>1</th>\n",
       "      <td>6.0</td>\n",
       "      <td>130260</td>\n",
       "      <td>2009</td>\n",
       "    </tr>\n",
       "    <tr>\n",
       "      <th>2</th>\n",
       "      <td>5.9</td>\n",
       "      <td>140010</td>\n",
       "      <td>2009</td>\n",
       "    </tr>\n",
       "    <tr>\n",
       "      <th>3</th>\n",
       "      <td>5.5</td>\n",
       "      <td>150140</td>\n",
       "      <td>2009</td>\n",
       "    </tr>\n",
       "    <tr>\n",
       "      <th>4</th>\n",
       "      <td>4.0</td>\n",
       "      <td>211130</td>\n",
       "      <td>2009</td>\n",
       "    </tr>\n",
       "    <tr>\n",
       "      <th>5</th>\n",
       "      <td>6.3</td>\n",
       "      <td>220190</td>\n",
       "      <td>2009</td>\n",
       "    </tr>\n",
       "    <tr>\n",
       "      <th>6</th>\n",
       "      <td>6.9</td>\n",
       "      <td>230440</td>\n",
       "      <td>2009</td>\n",
       "    </tr>\n",
       "    <tr>\n",
       "      <th>7</th>\n",
       "      <td>7.1</td>\n",
       "      <td>261160</td>\n",
       "      <td>2009</td>\n",
       "    </tr>\n",
       "    <tr>\n",
       "      <th>8</th>\n",
       "      <td>6.5</td>\n",
       "      <td>280670</td>\n",
       "      <td>2009</td>\n",
       "    </tr>\n",
       "    <tr>\n",
       "      <th>9</th>\n",
       "      <td>7.1</td>\n",
       "      <td>292740</td>\n",
       "      <td>2009</td>\n",
       "    </tr>\n",
       "    <tr>\n",
       "      <th>10</th>\n",
       "      <td>6.0</td>\n",
       "      <td>310620</td>\n",
       "      <td>2009</td>\n",
       "    </tr>\n",
       "    <tr>\n",
       "      <th>11</th>\n",
       "      <td>6.3</td>\n",
       "      <td>313670</td>\n",
       "      <td>2009</td>\n",
       "    </tr>\n",
       "    <tr>\n",
       "      <th>12</th>\n",
       "      <td>6.4</td>\n",
       "      <td>317020</td>\n",
       "      <td>2009</td>\n",
       "    </tr>\n",
       "    <tr>\n",
       "      <th>13</th>\n",
       "      <td>5.7</td>\n",
       "      <td>330455</td>\n",
       "      <td>2009</td>\n",
       "    </tr>\n",
       "    <tr>\n",
       "      <th>14</th>\n",
       "      <td>6.9</td>\n",
       "      <td>410690</td>\n",
       "      <td>2009</td>\n",
       "    </tr>\n",
       "    <tr>\n",
       "      <th>15</th>\n",
       "      <td>5.7</td>\n",
       "      <td>420540</td>\n",
       "      <td>2009</td>\n",
       "    </tr>\n",
       "    <tr>\n",
       "      <th>16</th>\n",
       "      <td>5.8</td>\n",
       "      <td>431490</td>\n",
       "      <td>2009</td>\n",
       "    </tr>\n",
       "    <tr>\n",
       "      <th>17</th>\n",
       "      <td>7.3</td>\n",
       "      <td>431690</td>\n",
       "      <td>2009</td>\n",
       "    </tr>\n",
       "    <tr>\n",
       "      <th>18</th>\n",
       "      <td>7.1</td>\n",
       "      <td>500270</td>\n",
       "      <td>2009</td>\n",
       "    </tr>\n",
       "    <tr>\n",
       "      <th>19</th>\n",
       "      <td>5.3</td>\n",
       "      <td>520870</td>\n",
       "      <td>2009</td>\n",
       "    </tr>\n",
       "    <tr>\n",
       "      <th>20</th>\n",
       "      <td>4.4</td>\n",
       "      <td>120040</td>\n",
       "      <td>2007</td>\n",
       "    </tr>\n",
       "    <tr>\n",
       "      <th>21</th>\n",
       "      <td>5.3</td>\n",
       "      <td>140010</td>\n",
       "      <td>2007</td>\n",
       "    </tr>\n",
       "    <tr>\n",
       "      <th>22</th>\n",
       "      <td>5.2</td>\n",
       "      <td>150140</td>\n",
       "      <td>2007</td>\n",
       "    </tr>\n",
       "    <tr>\n",
       "      <th>23</th>\n",
       "      <td>3.4</td>\n",
       "      <td>211130</td>\n",
       "      <td>2007</td>\n",
       "    </tr>\n",
       "    <tr>\n",
       "      <th>24</th>\n",
       "      <td>4.3</td>\n",
       "      <td>220190</td>\n",
       "      <td>2007</td>\n",
       "    </tr>\n",
       "    <tr>\n",
       "      <th>25</th>\n",
       "      <td>6.8</td>\n",
       "      <td>230440</td>\n",
       "      <td>2007</td>\n",
       "    </tr>\n",
       "    <tr>\n",
       "      <th>26</th>\n",
       "      <td>7.5</td>\n",
       "      <td>261160</td>\n",
       "      <td>2007</td>\n",
       "    </tr>\n",
       "    <tr>\n",
       "      <th>27</th>\n",
       "      <td>5.4</td>\n",
       "      <td>280670</td>\n",
       "      <td>2007</td>\n",
       "    </tr>\n",
       "    <tr>\n",
       "      <th>28</th>\n",
       "      <td>7.2</td>\n",
       "      <td>292740</td>\n",
       "      <td>2007</td>\n",
       "    </tr>\n",
       "    <tr>\n",
       "      <th>29</th>\n",
       "      <td>5.5</td>\n",
       "      <td>310620</td>\n",
       "      <td>2007</td>\n",
       "    </tr>\n",
       "    <tr>\n",
       "      <th>30</th>\n",
       "      <td>7.0</td>\n",
       "      <td>313670</td>\n",
       "      <td>2007</td>\n",
       "    </tr>\n",
       "    <tr>\n",
       "      <th>31</th>\n",
       "      <td>6.0</td>\n",
       "      <td>317020</td>\n",
       "      <td>2007</td>\n",
       "    </tr>\n",
       "    <tr>\n",
       "      <th>32</th>\n",
       "      <td>6.1</td>\n",
       "      <td>330455</td>\n",
       "      <td>2007</td>\n",
       "    </tr>\n",
       "    <tr>\n",
       "      <th>33</th>\n",
       "      <td>5.8</td>\n",
       "      <td>420540</td>\n",
       "      <td>2007</td>\n",
       "    </tr>\n",
       "    <tr>\n",
       "      <th>34</th>\n",
       "      <td>6.2</td>\n",
       "      <td>431490</td>\n",
       "      <td>2007</td>\n",
       "    </tr>\n",
       "    <tr>\n",
       "      <th>35</th>\n",
       "      <td>6.5</td>\n",
       "      <td>431690</td>\n",
       "      <td>2007</td>\n",
       "    </tr>\n",
       "    <tr>\n",
       "      <th>36</th>\n",
       "      <td>6.5</td>\n",
       "      <td>500270</td>\n",
       "      <td>2007</td>\n",
       "    </tr>\n",
       "    <tr>\n",
       "      <th>37</th>\n",
       "      <td>5.5</td>\n",
       "      <td>520870</td>\n",
       "      <td>2007</td>\n",
       "    </tr>\n",
       "    <tr>\n",
       "      <th>38</th>\n",
       "      <td>6.7</td>\n",
       "      <td>530010</td>\n",
       "      <td>2007</td>\n",
       "    </tr>\n",
       "  </tbody>\n",
       "</table>\n",
       "</div>"
      ],
      "text/plain": [
       "    Valor Municipio   Ano\n",
       "0     4.7    120040  2009\n",
       "1     6.0    130260  2009\n",
       "2     5.9    140010  2009\n",
       "3     5.5    150140  2009\n",
       "4     4.0    211130  2009\n",
       "5     6.3    220190  2009\n",
       "6     6.9    230440  2009\n",
       "7     7.1    261160  2009\n",
       "8     6.5    280670  2009\n",
       "9     7.1    292740  2009\n",
       "10    6.0    310620  2009\n",
       "11    6.3    313670  2009\n",
       "12    6.4    317020  2009\n",
       "13    5.7    330455  2009\n",
       "14    6.9    410690  2009\n",
       "15    5.7    420540  2009\n",
       "16    5.8    431490  2009\n",
       "17    7.3    431690  2009\n",
       "18    7.1    500270  2009\n",
       "19    5.3    520870  2009\n",
       "20    4.4    120040  2007\n",
       "21    5.3    140010  2007\n",
       "22    5.2    150140  2007\n",
       "23    3.4    211130  2007\n",
       "24    4.3    220190  2007\n",
       "25    6.8    230440  2007\n",
       "26    7.5    261160  2007\n",
       "27    5.4    280670  2007\n",
       "28    7.2    292740  2007\n",
       "29    5.5    310620  2007\n",
       "30    7.0    313670  2007\n",
       "31    6.0    317020  2007\n",
       "32    6.1    330455  2007\n",
       "33    5.8    420540  2007\n",
       "34    6.2    431490  2007\n",
       "35    6.5    431690  2007\n",
       "36    6.5    500270  2007\n",
       "37    5.5    520870  2007\n",
       "38    6.7    530010  2007"
      ]
     },
     "execution_count": 17,
     "metadata": {},
     "output_type": "execute_result"
    }
   ],
   "source": [
    "IDEBTable"
   ]
  },
  {
   "cell_type": "markdown",
   "metadata": {},
   "source": [
    "You can see there are two sets of data here, one for 2007 and another for 2009. We'll only use the most recent data for our \"analysis\"."
   ]
  },
  {
   "cell_type": "code",
   "execution_count": 18,
   "metadata": {
    "collapsed": true
   },
   "outputs": [],
   "source": [
    "IDEBTable = IDEBTable.loc[0:19]"
   ]
  },
  {
   "cell_type": "markdown",
   "metadata": {},
   "source": [
    "### Identifying the city codes\n",
    "\n",
    "In our IDEBTable, cities are identified by their so called \"IBGE Code\", which is a code issued to each locality by the Brazilian Institute for Geography and Statistics (IBGE). In order to make this more user friendly, we'll read the most recent Excel file with the list of cities and their respective 7 digit codes (from 2014; these codes include a final verification digit). For this, we'll use the xlrd module, which must be manually installed; see <a href=\"https://pypi.python.org/pypi/xlrd\">this</a>."
   ]
  },
  {
   "cell_type": "code",
   "execution_count": 19,
   "metadata": {
    "collapsed": true
   },
   "outputs": [],
   "source": [
    "localCodesIBGE = pd.read_excel(\"DTB_2014_Municipio.xls\")"
   ]
  },
  {
   "cell_type": "markdown",
   "metadata": {},
   "source": [
    "Now we can inspect the data by using the pandas *head* method for DataFrames:"
   ]
  },
  {
   "cell_type": "code",
   "execution_count": 20,
   "metadata": {
    "tags": [
     "codecomment"
    ]
   },
   "outputs": [
    {
     "data": {
      "text/html": [
       "<div>\n",
       "<style>\n",
       "    .dataframe thead tr:only-child th {\n",
       "        text-align: right;\n",
       "    }\n",
       "\n",
       "    .dataframe thead th {\n",
       "        text-align: left;\n",
       "    }\n",
       "\n",
       "    .dataframe tbody tr th {\n",
       "        vertical-align: top;\n",
       "    }\n",
       "</style>\n",
       "<table border=\"1\" class=\"dataframe\">\n",
       "  <thead>\n",
       "    <tr style=\"text-align: right;\">\n",
       "      <th></th>\n",
       "      <th>UF</th>\n",
       "      <th>Nome_UF</th>\n",
       "      <th>Mesorregião Geográfica</th>\n",
       "      <th>Nome_Mesorregião</th>\n",
       "      <th>Microrregião Geográfica</th>\n",
       "      <th>Nome_Microrregião</th>\n",
       "      <th>Município</th>\n",
       "      <th>Cod Municipio Completo</th>\n",
       "      <th>Nome_Município</th>\n",
       "    </tr>\n",
       "  </thead>\n",
       "  <tbody>\n",
       "    <tr>\n",
       "      <th>0</th>\n",
       "      <td>11</td>\n",
       "      <td>Rondônia</td>\n",
       "      <td>2</td>\n",
       "      <td>Leste Rondoniense</td>\n",
       "      <td>6</td>\n",
       "      <td>Cacoal</td>\n",
       "      <td>15</td>\n",
       "      <td>1100015</td>\n",
       "      <td>Alta Floresta D'Oeste</td>\n",
       "    </tr>\n",
       "    <tr>\n",
       "      <th>1</th>\n",
       "      <td>11</td>\n",
       "      <td>Rondônia</td>\n",
       "      <td>2</td>\n",
       "      <td>Leste Rondoniense</td>\n",
       "      <td>3</td>\n",
       "      <td>Ariquemes</td>\n",
       "      <td>23</td>\n",
       "      <td>1100023</td>\n",
       "      <td>Ariquemes</td>\n",
       "    </tr>\n",
       "    <tr>\n",
       "      <th>2</th>\n",
       "      <td>11</td>\n",
       "      <td>Rondônia</td>\n",
       "      <td>2</td>\n",
       "      <td>Leste Rondoniense</td>\n",
       "      <td>8</td>\n",
       "      <td>Colorado do Oeste</td>\n",
       "      <td>31</td>\n",
       "      <td>1100031</td>\n",
       "      <td>Cabixi</td>\n",
       "    </tr>\n",
       "    <tr>\n",
       "      <th>3</th>\n",
       "      <td>11</td>\n",
       "      <td>Rondônia</td>\n",
       "      <td>2</td>\n",
       "      <td>Leste Rondoniense</td>\n",
       "      <td>6</td>\n",
       "      <td>Cacoal</td>\n",
       "      <td>49</td>\n",
       "      <td>1100049</td>\n",
       "      <td>Cacoal</td>\n",
       "    </tr>\n",
       "    <tr>\n",
       "      <th>4</th>\n",
       "      <td>11</td>\n",
       "      <td>Rondônia</td>\n",
       "      <td>2</td>\n",
       "      <td>Leste Rondoniense</td>\n",
       "      <td>8</td>\n",
       "      <td>Colorado do Oeste</td>\n",
       "      <td>56</td>\n",
       "      <td>1100056</td>\n",
       "      <td>Cerejeiras</td>\n",
       "    </tr>\n",
       "  </tbody>\n",
       "</table>\n",
       "</div>"
      ],
      "text/plain": [
       "   UF   Nome_UF  Mesorregião Geográfica   Nome_Mesorregião  \\\n",
       "0  11  Rondônia                       2  Leste Rondoniense   \n",
       "1  11  Rondônia                       2  Leste Rondoniense   \n",
       "2  11  Rondônia                       2  Leste Rondoniense   \n",
       "3  11  Rondônia                       2  Leste Rondoniense   \n",
       "4  11  Rondônia                       2  Leste Rondoniense   \n",
       "\n",
       "   Microrregião Geográfica  Nome_Microrregião  Município  \\\n",
       "0                        6             Cacoal         15   \n",
       "1                        3          Ariquemes         23   \n",
       "2                        8  Colorado do Oeste         31   \n",
       "3                        6             Cacoal         49   \n",
       "4                        8  Colorado do Oeste         56   \n",
       "\n",
       "   Cod Municipio Completo         Nome_Município  \n",
       "0                 1100015  Alta Floresta D'Oeste  \n",
       "1                 1100023              Ariquemes  \n",
       "2                 1100031                 Cabixi  \n",
       "3                 1100049                 Cacoal  \n",
       "4                 1100056             Cerejeiras  "
      ]
     },
     "execution_count": 20,
     "metadata": {},
     "output_type": "execute_result"
    }
   ],
   "source": [
    "localCodesIBGE.head()"
   ]
  },
  {
   "cell_type": "markdown",
   "metadata": {},
   "source": [
    "The columns we are interested in are just \"Nome_UF\", \"Cod Municipio Completo\" and \"Nome_Município\", which stand for State (or Province), Complete City Code and City Name, respectively."
   ]
  },
  {
   "cell_type": "code",
   "execution_count": 21,
   "metadata": {
    "collapsed": true
   },
   "outputs": [],
   "source": [
    "localCodesIBGE = localCodesIBGE[[\"Nome_UF\", \"Cod Municipio Completo\", \"Nome_Município\"]]"
   ]
  },
  {
   "cell_type": "markdown",
   "metadata": {},
   "source": [
    "Now, we have two DataFrames: **IDEBTable**, containing the complete IDEB data corresponding to city names, and **localCodesIBGE**, containing the corresponding city codes. We must select from the complete **localCodesIBGE** table only the rows corresponding to cities for which we have the IDEB value. For this, we will extract from both DataFrames the columns corresponding to the city codes (remember that in the **localCodesIBGE** table, codes have an extra verification code which we will not use):"
   ]
  },
  {
   "cell_type": "code",
   "execution_count": 42,
   "metadata": {
    "collapsed": true
   },
   "outputs": [],
   "source": [
    "IDEBCities = IDEBTable[\"Municipio\"]\n",
    "cities = localCodesIBGE[\"Cod Municipio Completo\"].map(lambda x: str(x)[0:6])"
   ]
  },
  {
   "cell_type": "markdown",
   "metadata": {},
   "source": [
    "Note that we have used *map* to transform numerical data into strings, removing the last digit.\n",
    "\n",
    "Now, both **IDEBCities** and **cities** are pandas Series objects. To get the indices of cities for which we have IDEB data, first we will identify which codes are **not** in **IDEBCities**:"
   ]
  },
  {
   "cell_type": "code",
   "execution_count": 43,
   "metadata": {
    "collapsed": true
   },
   "outputs": [],
   "source": [
    "citiesToRemove = cities[~cities.isin(IDEBCities)]"
   ]
  },
  {
   "cell_type": "markdown",
   "metadata": {},
   "source": [
    "We remove the corresponding rows from the localCodesIBGE table:"
   ]
  },
  {
   "cell_type": "code",
   "execution_count": 45,
   "metadata": {
    "collapsed": true
   },
   "outputs": [],
   "source": [
    "newTable = localCodesIBGE.drop(citiesToRemove.index).reset_index(drop=True)"
   ]
  },
  {
   "cell_type": "markdown",
   "metadata": {},
   "source": [
    "Finally, we will create a new DataFrame joining city name and IDEB value:"
   ]
  },
  {
   "cell_type": "code",
   "execution_count": 46,
   "metadata": {
    "collapsed": true
   },
   "outputs": [],
   "source": [
    "finalData = pd.concat([newTable, IDEBTable], axis=1)"
   ]
  },
  {
   "cell_type": "markdown",
   "metadata": {},
   "source": [
    "This gives"
   ]
  },
  {
   "cell_type": "code",
   "execution_count": 47,
   "metadata": {},
   "outputs": [
    {
     "data": {
      "text/html": [
       "<div>\n",
       "<style>\n",
       "    .dataframe thead tr:only-child th {\n",
       "        text-align: right;\n",
       "    }\n",
       "\n",
       "    .dataframe thead th {\n",
       "        text-align: left;\n",
       "    }\n",
       "\n",
       "    .dataframe tbody tr th {\n",
       "        vertical-align: top;\n",
       "    }\n",
       "</style>\n",
       "<table border=\"1\" class=\"dataframe\">\n",
       "  <thead>\n",
       "    <tr style=\"text-align: right;\">\n",
       "      <th></th>\n",
       "      <th>Nome_UF</th>\n",
       "      <th>Cod Municipio Completo</th>\n",
       "      <th>Nome_Município</th>\n",
       "      <th>Valor</th>\n",
       "      <th>Municipio</th>\n",
       "      <th>Ano</th>\n",
       "    </tr>\n",
       "  </thead>\n",
       "  <tbody>\n",
       "    <tr>\n",
       "      <th>0</th>\n",
       "      <td>Acre</td>\n",
       "      <td>1200401</td>\n",
       "      <td>Rio Branco</td>\n",
       "      <td>4.7</td>\n",
       "      <td>120040</td>\n",
       "      <td>2009</td>\n",
       "    </tr>\n",
       "    <tr>\n",
       "      <th>1</th>\n",
       "      <td>Amazonas</td>\n",
       "      <td>1302603</td>\n",
       "      <td>Manaus</td>\n",
       "      <td>6.0</td>\n",
       "      <td>130260</td>\n",
       "      <td>2009</td>\n",
       "    </tr>\n",
       "    <tr>\n",
       "      <th>2</th>\n",
       "      <td>Roraima</td>\n",
       "      <td>1400100</td>\n",
       "      <td>Boa Vista</td>\n",
       "      <td>5.9</td>\n",
       "      <td>140010</td>\n",
       "      <td>2009</td>\n",
       "    </tr>\n",
       "    <tr>\n",
       "      <th>3</th>\n",
       "      <td>Pará</td>\n",
       "      <td>1501402</td>\n",
       "      <td>Belém</td>\n",
       "      <td>5.5</td>\n",
       "      <td>150140</td>\n",
       "      <td>2009</td>\n",
       "    </tr>\n",
       "    <tr>\n",
       "      <th>4</th>\n",
       "      <td>Maranhão</td>\n",
       "      <td>2111300</td>\n",
       "      <td>São Luís</td>\n",
       "      <td>4.0</td>\n",
       "      <td>211130</td>\n",
       "      <td>2009</td>\n",
       "    </tr>\n",
       "    <tr>\n",
       "      <th>5</th>\n",
       "      <td>Piauí</td>\n",
       "      <td>2201903</td>\n",
       "      <td>Bom Jesus</td>\n",
       "      <td>6.3</td>\n",
       "      <td>220190</td>\n",
       "      <td>2009</td>\n",
       "    </tr>\n",
       "    <tr>\n",
       "      <th>6</th>\n",
       "      <td>Ceará</td>\n",
       "      <td>2304400</td>\n",
       "      <td>Fortaleza</td>\n",
       "      <td>6.9</td>\n",
       "      <td>230440</td>\n",
       "      <td>2009</td>\n",
       "    </tr>\n",
       "    <tr>\n",
       "      <th>7</th>\n",
       "      <td>Pernambuco</td>\n",
       "      <td>2611606</td>\n",
       "      <td>Recife</td>\n",
       "      <td>7.1</td>\n",
       "      <td>261160</td>\n",
       "      <td>2009</td>\n",
       "    </tr>\n",
       "    <tr>\n",
       "      <th>8</th>\n",
       "      <td>Sergipe</td>\n",
       "      <td>2806701</td>\n",
       "      <td>São Cristóvão</td>\n",
       "      <td>6.5</td>\n",
       "      <td>280670</td>\n",
       "      <td>2009</td>\n",
       "    </tr>\n",
       "    <tr>\n",
       "      <th>9</th>\n",
       "      <td>Bahia</td>\n",
       "      <td>2927408</td>\n",
       "      <td>Salvador</td>\n",
       "      <td>7.1</td>\n",
       "      <td>292740</td>\n",
       "      <td>2009</td>\n",
       "    </tr>\n",
       "    <tr>\n",
       "      <th>10</th>\n",
       "      <td>Minas Gerais</td>\n",
       "      <td>3106200</td>\n",
       "      <td>Belo Horizonte</td>\n",
       "      <td>6.0</td>\n",
       "      <td>310620</td>\n",
       "      <td>2009</td>\n",
       "    </tr>\n",
       "    <tr>\n",
       "      <th>11</th>\n",
       "      <td>Minas Gerais</td>\n",
       "      <td>3136702</td>\n",
       "      <td>Juiz de Fora</td>\n",
       "      <td>6.3</td>\n",
       "      <td>313670</td>\n",
       "      <td>2009</td>\n",
       "    </tr>\n",
       "    <tr>\n",
       "      <th>12</th>\n",
       "      <td>Minas Gerais</td>\n",
       "      <td>3170206</td>\n",
       "      <td>Uberlândia</td>\n",
       "      <td>6.4</td>\n",
       "      <td>317020</td>\n",
       "      <td>2009</td>\n",
       "    </tr>\n",
       "    <tr>\n",
       "      <th>13</th>\n",
       "      <td>Rio de Janeiro</td>\n",
       "      <td>3304557</td>\n",
       "      <td>Rio de Janeiro</td>\n",
       "      <td>5.7</td>\n",
       "      <td>330455</td>\n",
       "      <td>2009</td>\n",
       "    </tr>\n",
       "    <tr>\n",
       "      <th>14</th>\n",
       "      <td>Paraná</td>\n",
       "      <td>4106902</td>\n",
       "      <td>Curitiba</td>\n",
       "      <td>6.9</td>\n",
       "      <td>410690</td>\n",
       "      <td>2009</td>\n",
       "    </tr>\n",
       "    <tr>\n",
       "      <th>15</th>\n",
       "      <td>Santa Catarina</td>\n",
       "      <td>4205407</td>\n",
       "      <td>Florianópolis</td>\n",
       "      <td>5.7</td>\n",
       "      <td>420540</td>\n",
       "      <td>2009</td>\n",
       "    </tr>\n",
       "    <tr>\n",
       "      <th>16</th>\n",
       "      <td>Rio Grande do Sul</td>\n",
       "      <td>4314902</td>\n",
       "      <td>Porto Alegre</td>\n",
       "      <td>5.8</td>\n",
       "      <td>431490</td>\n",
       "      <td>2009</td>\n",
       "    </tr>\n",
       "    <tr>\n",
       "      <th>17</th>\n",
       "      <td>Rio Grande do Sul</td>\n",
       "      <td>4316907</td>\n",
       "      <td>Santa Maria</td>\n",
       "      <td>7.3</td>\n",
       "      <td>431690</td>\n",
       "      <td>2009</td>\n",
       "    </tr>\n",
       "    <tr>\n",
       "      <th>18</th>\n",
       "      <td>Mato Grosso do Sul</td>\n",
       "      <td>5002704</td>\n",
       "      <td>Campo Grande</td>\n",
       "      <td>7.1</td>\n",
       "      <td>500270</td>\n",
       "      <td>2009</td>\n",
       "    </tr>\n",
       "    <tr>\n",
       "      <th>19</th>\n",
       "      <td>Goiás</td>\n",
       "      <td>5208707</td>\n",
       "      <td>Goiânia</td>\n",
       "      <td>5.3</td>\n",
       "      <td>520870</td>\n",
       "      <td>2009</td>\n",
       "    </tr>\n",
       "  </tbody>\n",
       "</table>\n",
       "</div>"
      ],
      "text/plain": [
       "               Nome_UF  Cod Municipio Completo  Nome_Município  Valor  \\\n",
       "0                 Acre                 1200401      Rio Branco    4.7   \n",
       "1             Amazonas                 1302603          Manaus    6.0   \n",
       "2              Roraima                 1400100       Boa Vista    5.9   \n",
       "3                 Pará                 1501402           Belém    5.5   \n",
       "4             Maranhão                 2111300        São Luís    4.0   \n",
       "5                Piauí                 2201903       Bom Jesus    6.3   \n",
       "6                Ceará                 2304400       Fortaleza    6.9   \n",
       "7           Pernambuco                 2611606          Recife    7.1   \n",
       "8              Sergipe                 2806701   São Cristóvão    6.5   \n",
       "9                Bahia                 2927408        Salvador    7.1   \n",
       "10        Minas Gerais                 3106200  Belo Horizonte    6.0   \n",
       "11        Minas Gerais                 3136702    Juiz de Fora    6.3   \n",
       "12        Minas Gerais                 3170206      Uberlândia    6.4   \n",
       "13      Rio de Janeiro                 3304557  Rio de Janeiro    5.7   \n",
       "14              Paraná                 4106902        Curitiba    6.9   \n",
       "15      Santa Catarina                 4205407   Florianópolis    5.7   \n",
       "16   Rio Grande do Sul                 4314902    Porto Alegre    5.8   \n",
       "17   Rio Grande do Sul                 4316907     Santa Maria    7.3   \n",
       "18  Mato Grosso do Sul                 5002704    Campo Grande    7.1   \n",
       "19               Goiás                 5208707         Goiânia    5.3   \n",
       "\n",
       "   Municipio   Ano  \n",
       "0     120040  2009  \n",
       "1     130260  2009  \n",
       "2     140010  2009  \n",
       "3     150140  2009  \n",
       "4     211130  2009  \n",
       "5     220190  2009  \n",
       "6     230440  2009  \n",
       "7     261160  2009  \n",
       "8     280670  2009  \n",
       "9     292740  2009  \n",
       "10    310620  2009  \n",
       "11    313670  2009  \n",
       "12    317020  2009  \n",
       "13    330455  2009  \n",
       "14    410690  2009  \n",
       "15    420540  2009  \n",
       "16    431490  2009  \n",
       "17    431690  2009  \n",
       "18    500270  2009  \n",
       "19    520870  2009  "
      ]
     },
     "execution_count": 47,
     "metadata": {},
     "output_type": "execute_result"
    }
   ],
   "source": [
    "finalData"
   ]
  },
  {
   "cell_type": "markdown",
   "metadata": {},
   "source": [
    "## Finishing up: a pretty figure\n",
    "\n",
    "In order to include graphics in notebooks, usually the first cell in the notebook contains the code\n",
    "\n",
    "% matplotlib inline\n",
    "\n",
    "or\n",
    "\n",
    "% matplotlib notebook\n",
    "\n",
    "Since we don't want to sacrifice the legibility of our *article* by starting it with some misterious command, we can use the **init_cell** nbextension so that a later cell is executed first on our notebook ([More details](#about_initcell)).\n",
    "\n",
    "First, let's import the pyplot sublibrary of the matplotlib library and call it plt:"
   ]
  },
  {
   "cell_type": "code",
   "execution_count": 48,
   "metadata": {
    "collapsed": true
   },
   "outputs": [],
   "source": [
    "import matplotlib.pyplot as plt"
   ]
  },
  {
   "cell_type": "markdown",
   "metadata": {},
   "source": [
    "We'll do a very simple plot, but for this it would be nice to use the city names instead of the numerical indices in the finalData table:"
   ]
  },
  {
   "cell_type": "code",
   "execution_count": 49,
   "metadata": {
    "collapsed": true
   },
   "outputs": [],
   "source": [
    "finalData.set_index([\"Nome_Município\"], inplace=True)"
   ]
  },
  {
   "cell_type": "markdown",
   "metadata": {},
   "source": [
    "Now, we will select the column with the values (\"Valor\") for the IDEB by city in the finalData table (note that the result of this operation is a Series):"
   ]
  },
  {
   "cell_type": "code",
   "execution_count": 50,
   "metadata": {},
   "outputs": [
    {
     "data": {
      "text/plain": [
       "Nome_Município\n",
       "Rio Branco        4.7\n",
       "Manaus            6.0\n",
       "Boa Vista         5.9\n",
       "Belém             5.5\n",
       "São Luís          4.0\n",
       "Bom Jesus         6.3\n",
       "Fortaleza         6.9\n",
       "Recife            7.1\n",
       "São Cristóvão     6.5\n",
       "Salvador          7.1\n",
       "Belo Horizonte    6.0\n",
       "Juiz de Fora      6.3\n",
       "Uberlândia        6.4\n",
       "Rio de Janeiro    5.7\n",
       "Curitiba          6.9\n",
       "Florianópolis     5.7\n",
       "Porto Alegre      5.8\n",
       "Santa Maria       7.3\n",
       "Campo Grande      7.1\n",
       "Goiânia           5.3\n",
       "Name: Valor, dtype: float64"
      ]
     },
     "execution_count": 50,
     "metadata": {},
     "output_type": "execute_result"
    }
   ],
   "source": [
    "finalData[\"Valor\"]"
   ]
  },
  {
   "cell_type": "markdown",
   "metadata": {},
   "source": [
    "We are ready for our pretty (yet irrelevant) picture."
   ]
  },
  {
   "cell_type": "code",
   "execution_count": 52,
   "metadata": {},
   "outputs": [
    {
     "data": {
      "text/plain": [
       "<matplotlib.text.Text at 0x7f156c4e7e48>"
      ]
     },
     "execution_count": 52,
     "metadata": {},
     "output_type": "execute_result"
    }
   ],
   "source": [
    "finalData[\"Valor\"].plot(kind='barh')\n",
    "plt.title(\"IDEB by city (Data from 2009)\")"
   ]
  },
  {
   "cell_type": "markdown",
   "metadata": {},
   "source": [
    "## Comments about automatic documentation and script generation\n",
    "\n",
    "To convert this notebook to a regular Python .py script, use "
   ]
  },
  {
   "cell_type": "raw",
   "metadata": {
    "tags": [
     "codecomment",
     "verbatim"
    ]
   },
   "source": [
    "jupyter-nbconvert --to python 'IDEB.ipynb' --template=removeextracode.tpl"
   ]
  },
  {
   "cell_type": "markdown",
   "metadata": {},
   "source": [
    "The removeextracode.tpl has the following content:"
   ]
  },
  {
   "cell_type": "raw",
   "metadata": {
    "tags": [
     "codecomment",
     "verbatim"
    ]
   },
   "source": [
    "{% extends 'python.tpl'%}\n",
    "\n",
    "{% block input %}\n",
    "{% if 'codecomment' in cell['metadata'].get('tags', []) %}\n",
    "   {{ cell.source | comment_lines }}\n",
    "{% else %}\n",
    "   {{ cell.source | ipython2python }}\n",
    "{% endif %}\n",
    "{% endblock input %}"
   ]
  },
  {
   "cell_type": "markdown",
   "metadata": {},
   "source": [
    "This means that we will include all notebook cells tagged with **codecomment** as comments on our script. This is to avoid generating a unusable script including our inspection of objects and attempts at solving a problem.\n",
    "\n",
    "For more details on templates and the nbconvert extension, check <a href=\"https://jupyter-contrib-nbextensions.readthedocs.io/en/latest/\">this page</a>, for example."
   ]
  },
  {
   "cell_type": "markdown",
   "metadata": {},
   "source": [
    "To generate a PDF via LaTeX, you must have pandoc installed. Then, you can use"
   ]
  },
  {
   "cell_type": "raw",
   "metadata": {
    "tags": [
     "codecomment",
     "verbatim"
    ]
   },
   "source": [
    "jupyter-nbconvert --to pdf --template latexwithverb.tplx IDEB.ipynb"
   ]
  },
  {
   "cell_type": "markdown",
   "metadata": {},
   "source": [
    "to generate the PDF with the latexwithverb.tplx template. This template has some special formatting options for verbatim code. You can customize your own template or just use the basic options that nbconvert provides in the documentation."
   ]
  },
  {
   "cell_type": "markdown",
   "metadata": {},
   "source": [
    "## Initialization cell <a id='about_initcell'></a>\n",
    "\n",
    "Through the \"init_cell\" extension (also from nbextensions), it is possible to alter the order of execution of notebook cells. If we look at the metadata of the cell below, we can see that it is marked to be executed before all other cells, and so we obtain the desired result when we run all cells in the notebook. (This command allows us to see inline graphics inside our notebook)."
   ]
  },
  {
   "cell_type": "code",
   "execution_count": 53,
   "metadata": {
    "collapsed": true,
    "init_cell": true,
    "tags": [
     "codecomment"
    ]
   },
   "outputs": [],
   "source": [
    "%matplotlib inline"
   ]
  }
 ],
 "metadata": {
  "celltoolbar": "Tags",
  "kernelspec": {
   "display_name": "Python 3",
   "language": "python",
   "name": "python3"
  },
  "language_info": {
   "codemirror_mode": {
    "name": "ipython",
    "version": 3
   },
   "file_extension": ".py",
   "mimetype": "text/x-python",
   "name": "python",
   "nbconvert_exporter": "python",
   "pygments_lexer": "ipython3",
   "version": "3.6.1"
  },
  "latex_metadata": {
   "affiliation": "Universidade Federal de Santa Catarina, Florianópolis",
   "author": "Melissa Weber Mendonça",
   "title": "Exemplo: TDC Floripa 2017"
  }
 },
 "nbformat": 4,
 "nbformat_minor": 2
}
