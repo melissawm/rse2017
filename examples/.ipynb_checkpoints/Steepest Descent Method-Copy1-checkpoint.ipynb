{
 "cells": [
  {
   "cell_type": "markdown",
   "metadata": {},
   "source": [
    "## Introduction\n",
    "\n",
    "The Steepest Descent method is an optimization method to find a minimum of a multivariate function, provided we have a way to compute the gradient (first derivative) of this function."
   ]
  },
  {
   "cell_type": "markdown",
   "metadata": {},
   "source": [
    "The <a href=\"https://en.wikipedia.org/wiki/Rosenbrock_function\">Rosenbrock function</a> is a well known function for testing optimization algorithms. It usually has the form\n",
    "\n",
    "$$f(x) = (1-x_0)^2 + 100(x_1-x_0^2)^2$$\n",
    "\n",
    "We implement this in the rosenbrock function below, noting that we expect $x=(x_0,x_1)$ to be a vector (ndarray) with two components."
   ]
  },
  {
   "cell_type": "code",
   "execution_count": 6,
   "metadata": {
    "collapsed": true
   },
   "outputs": [],
   "source": [
    "def rosenbrock(x):\n",
    "    return (1-x[0])**2+100*(x[1]-x[0]**2)**2"
   ]
  },
  {
   "cell_type": "markdown",
   "metadata": {},
   "source": [
    "Since we are going to use ndarrays, we have to import the numpy library. We'll give it a shorter name for simplicity."
   ]
  },
  {
   "cell_type": "code",
   "execution_count": 7,
   "metadata": {
    "collapsed": true
   },
   "outputs": [],
   "source": [
    "import numpy as np"
   ]
  },
  {
   "cell_type": "markdown",
   "metadata": {},
   "source": [
    "Now, given an initial point $x^0$, our method tries to generate a sequence of steps $x^k$ such that each step is taken in the direction of $-\\nabla f(x^k)$, which is the opposite of the gradient computed at point $x^k$. For example, given an initial point"
   ]
  },
  {
   "cell_type": "code",
   "execution_count": 12,
   "metadata": {
    "collapsed": true
   },
   "outputs": [],
   "source": [
    "x = np.asarray([2,2])"
   ]
  },
  {
   "cell_type": "markdown",
   "metadata": {},
   "source": [
    "we know that the gradient $\\nabla f(x)$ (which we'll call grad(x)) of the rosenbrock function at any point is"
   ]
  },
  {
   "cell_type": "code",
   "execution_count": 13,
   "metadata": {
    "collapsed": true
   },
   "outputs": [],
   "source": [
    "def grad(x):\n",
    "    return np.asarray([2*x[0]-2-400*x[0]*(x[1]-x[0]**2), 200*(x[1]-x[0]**2)])"
   ]
  },
  {
   "cell_type": "markdown",
   "metadata": {},
   "source": [
    "And thus $\\nabla f(x^0)$ is"
   ]
  },
  {
   "cell_type": "code",
   "execution_count": 14,
   "metadata": {},
   "outputs": [
    {
     "data": {
      "text/plain": [
       "array([1602, -400])"
      ]
     },
     "execution_count": 14,
     "metadata": {},
     "output_type": "execute_result"
    }
   ],
   "source": [
    "grad(x)"
   ]
  },
  {
   "cell_type": "markdown",
   "metadata": {},
   "source": [
    "Now, let's take a look at the Rosenbrock function."
   ]
  },
  {
   "cell_type": "code",
   "execution_count": null,
   "metadata": {},
   "outputs": [],
   "source": [
    "import matplotlib.pyplot as plt\n",
    "\n",
    "x = np.arange(-3.0, 3.0, 100)\n",
    "y = np.arange(-2.0, 2.0, 100)\n",
    "X, Y = np.meshgrid(x, y)\n",
    "plt.figure()\n",
    "Z = rosenbrock([X,Y])\n",
    "CS = plt.contour(X, Y, Z)\n",
    "plt.clabel(CS, inline=1, fontsize=10)\n",
    "plt.title('Simplest default with labels')"
   ]
  },
  {
   "cell_type": "code",
   "execution_count": 16,
   "metadata": {},
   "outputs": [
    {
     "data": {
      "text/plain": [
       "array([-1.        , -0.95959596, -0.91919192, -0.87878788, -0.83838384,\n",
       "       -0.7979798 , -0.75757576, -0.71717172, -0.67676768, -0.63636364,\n",
       "       -0.5959596 , -0.55555556, -0.51515152, -0.47474747, -0.43434343,\n",
       "       -0.39393939, -0.35353535, -0.31313131, -0.27272727, -0.23232323,\n",
       "       -0.19191919, -0.15151515, -0.11111111, -0.07070707, -0.03030303,\n",
       "        0.01010101,  0.05050505,  0.09090909,  0.13131313,  0.17171717,\n",
       "        0.21212121,  0.25252525,  0.29292929,  0.33333333,  0.37373737,\n",
       "        0.41414141,  0.45454545,  0.49494949,  0.53535354,  0.57575758,\n",
       "        0.61616162,  0.65656566,  0.6969697 ,  0.73737374,  0.77777778,\n",
       "        0.81818182,  0.85858586,  0.8989899 ,  0.93939394,  0.97979798,\n",
       "        1.02020202,  1.06060606,  1.1010101 ,  1.14141414,  1.18181818,\n",
       "        1.22222222,  1.26262626,  1.3030303 ,  1.34343434,  1.38383838,\n",
       "        1.42424242,  1.46464646,  1.50505051,  1.54545455,  1.58585859,\n",
       "        1.62626263,  1.66666667,  1.70707071,  1.74747475,  1.78787879,\n",
       "        1.82828283,  1.86868687,  1.90909091,  1.94949495,  1.98989899,\n",
       "        2.03030303,  2.07070707,  2.11111111,  2.15151515,  2.19191919,\n",
       "        2.23232323,  2.27272727,  2.31313131,  2.35353535,  2.39393939,\n",
       "        2.43434343,  2.47474747,  2.51515152,  2.55555556,  2.5959596 ,\n",
       "        2.63636364,  2.67676768,  2.71717172,  2.75757576,  2.7979798 ,\n",
       "        2.83838384,  2.87878788,  2.91919192,  2.95959596,  3.        ])"
      ]
     },
     "execution_count": 16,
     "metadata": {},
     "output_type": "execute_result"
    }
   ],
   "source": [
    "x"
   ]
  },
  {
   "cell_type": "code",
   "execution_count": 1,
   "metadata": {},
   "outputs": [
    {
     "name": "stdout",
     "output_type": "stream",
     "text": [
      "The local minimum occurs at 2.249965\n"
     ]
    }
   ],
   "source": [
    "# From calculation, it is expected that the local minimum occurs at x=9/4\n",
    "\n",
    "cur_x = 6 # The algorithm starts at x=6\n",
    "gamma = 0.01 # step size multiplier\n",
    "precision = 0.00001\n",
    "previous_step_size = cur_x\n",
    "\n",
    "\n",
    "while previous_step_size > precision:\n",
    "    prev_x = cur_x\n",
    "    cur_x += -gamma * df(prev_x)\n",
    "    previous_step_size = abs(cur_x - prev_x)\n",
    "\n",
    "print(\"The local minimum occurs at %f\" % cur_x)"
   ]
  },
  {
   "cell_type": "code",
   "execution_count": 2,
   "metadata": {},
   "outputs": [
    {
     "data": {
      "text/plain": [
       "2.25"
      ]
     },
     "execution_count": 2,
     "metadata": {},
     "output_type": "execute_result"
    }
   ],
   "source": [
    "9/4"
   ]
  },
  {
   "cell_type": "code",
   "execution_count": null,
   "metadata": {
    "collapsed": true
   },
   "outputs": [],
   "source": []
  }
 ],
 "metadata": {
  "celltoolbar": "Edit Metadata",
  "kernelspec": {
   "display_name": "Python 3",
   "language": "python",
   "name": "python3"
  },
  "language_info": {
   "codemirror_mode": {
    "name": "ipython",
    "version": 3
   },
   "file_extension": ".py",
   "mimetype": "text/x-python",
   "name": "python",
   "nbconvert_exporter": "python",
   "pygments_lexer": "ipython3",
   "version": "3.6.1"
  }
 },
 "nbformat": 4,
 "nbformat_minor": 2
}
